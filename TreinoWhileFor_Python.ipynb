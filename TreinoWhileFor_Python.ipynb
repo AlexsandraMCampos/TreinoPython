{
  "nbformat": 4,
  "nbformat_minor": 0,
  "metadata": {
    "colab": {
      "provenance": [],
      "authorship_tag": "ABX9TyM0Sy0bO7S2xUyyMt/SWur8",
      "include_colab_link": true
    },
    "kernelspec": {
      "name": "python3",
      "display_name": "Python 3"
    },
    "language_info": {
      "name": "python"
    }
  },
  "cells": [
    {
      "cell_type": "markdown",
      "metadata": {
        "id": "view-in-github",
        "colab_type": "text"
      },
      "source": [
        "<a href=\"https://colab.research.google.com/github/AlexsandraMCampos/TreinoPython/blob/main/TreinoWhileFor_Python.ipynb\" target=\"_parent\"><img src=\"https://colab.research.google.com/assets/colab-badge.svg\" alt=\"Open In Colab\"/></a>"
      ]
    },
    {
      "cell_type": "markdown",
      "source": [
        "1) Escreva um programa que peça dois números inteiros e imprima todos os números inteiros entre eles."
      ],
      "metadata": {
        "id": "sTdQ7-sADCQ6"
      }
    },
    {
      "cell_type": "markdown",
      "source": [],
      "metadata": {
        "id": "NRSIMc3WE_GB"
      }
    },
    {
      "cell_type": "code",
      "source": [
        "\n",
        "n1 = int(input('Escreva um número inteiro :'))\n",
        "n2 = int(input('Escreva um novo número inteiro: '))\n",
        "\n",
        "if n1 < n2:\n",
        "    for contador in range(n1 +1, n2, 1):\n",
        "        print(contador)\n",
        "elif n1 > n2:\n",
        "    for contador in range (n1-1, n2, -1):\n",
        "        print(contador)\n",
        "else:\n",
        "    print('Os números são iguais, portanto, não há número inteiro entre eles.')\n",
        "\n"
      ],
      "metadata": {
        "colab": {
          "base_uri": "https://localhost:8080/"
        },
        "id": "5_ZXrMFtDF82",
        "outputId": "2fa25c69-767f-4103-b576-461d5e831325"
      },
      "execution_count": 1,
      "outputs": [
        {
          "output_type": "stream",
          "name": "stdout",
          "text": [
            "Escreva um número inteiro :27\n",
            "Escreva um novo número inteiro: 30\n",
            "28\n",
            "29\n"
          ]
        }
      ]
    },
    {
      "cell_type": "markdown",
      "source": [
        "2) Escreva um programa para calcular quantos dias levará para a colônia de uma bactéria A ultrapassar ou igualar a colônia de uma bactéria B, com base nas taxas de crescimento de 3% e 1,5% respectivamente. Considere que a colônia A inicia com 4 elementos e a B com 10.\n"
      ],
      "metadata": {
        "id": "yFrl0zbFF6U9"
      }
    },
    {
      "cell_type": "code",
      "source": [
        "\n",
        "A = 4 # população inicial de A\n",
        "B = 10 # população inicial de B\n",
        "\n",
        "taxa_A = 0.03 # taxa de crescimento de A\n",
        "taxa_B = 0.015 # taxa de crescimento de B\n",
        "dias = 0\n",
        "\n",
        "# loop até que a colônia A ultrapasse ou iguale a colônia B\n",
        "while A < B:\n",
        "    A += A * taxa_A # aumento da colônia A por sua taxa de crescimento\n",
        "    B += B * taxa_B # aumenta da colônia B por sua taxa de crescimento\n",
        "    dias += 1 # incremento o número de dias\n",
        "\n",
        "print(f'Serão necessários {dias} dias para que s colônia de A iguale ou ultrapasse a colônia B.')"
      ],
      "metadata": {
        "colab": {
          "base_uri": "https://localhost:8080/"
        },
        "id": "J6D3IsEdD-6_",
        "outputId": "4dcf200c-c236-4bd4-a665-72750f0ce42f"
      },
      "execution_count": null,
      "outputs": [
        {
          "output_type": "stream",
          "name": "stdout",
          "text": [
            "Serão necessários 63 dias para que s colônia de A iguale ou ultrapasse a colônia B.\n"
          ]
        }
      ]
    },
    {
      "cell_type": "markdown",
      "source": [
        "3) Para tratar uma quantidade de 15 dados de avaliações de pessoas usuárias de um serviço da empresa, precisamos verificar se as notas são válidas. Então, escreva um programa que vai receber a nota de 0 a 5 de todos os dados e verificar se é um valor válido. Caso seja inserido uma nota acima de 5 ou abaixo de 0, repita até que a pessoa usuária insira um valor válido.\n"
      ],
      "metadata": {
        "id": "0y3U2tovJq5q"
      }
    },
    {
      "cell_type": "code",
      "source": [
        "notas = []\n",
        "\n",
        "while len(notas) < 15:\n",
        "    try:\n",
        "        nota = int(input(f'Dê uma nota de 0 a 5 para o serviço prestado ({len(notas) + 1}/15): '))\n",
        "        if 0 <= nota <= 5:\n",
        "            notas.append(notas)\n",
        "        else:\n",
        "            print('Nota inválida, por favor, digite notas válidas.')\n",
        "    except ValueError:\n",
        "        print('Entrada inválida, por favor, digite um número inteiro.')\n"
      ],
      "metadata": {
        "colab": {
          "base_uri": "https://localhost:8080/"
        },
        "id": "HnG38bQyJloo",
        "outputId": "f0c51a90-d42a-4ca0-aa36-163410458e73"
      },
      "execution_count": null,
      "outputs": [
        {
          "name": "stdout",
          "output_type": "stream",
          "text": [
            "Dê uma nota de 0 a 5 para o serviço prestado (1/15): 3\n",
            "Dê uma nota de 0 a 5 para o serviço prestado (2/15): 5\n",
            "Dê uma nota de 0 a 5 para o serviço prestado (3/15): 2\n",
            "Dê uma nota de 0 a 5 para o serviço prestado (4/15): 7\n",
            "Nota inválida, por favor, digite notas válidas.\n",
            "Dê uma nota de 0 a 5 para o serviço prestado (4/15): \n",
            "Entrada inválida, por favor, digite um número inteiro.\n",
            "Dê uma nota de 0 a 5 para o serviço prestado (4/15): 1\n",
            "Dê uma nota de 0 a 5 para o serviço prestado (5/15): 2\n",
            "Dê uma nota de 0 a 5 para o serviço prestado (6/15): 3\n",
            "Dê uma nota de 0 a 5 para o serviço prestado (7/15): 4\n",
            "Dê uma nota de 0 a 5 para o serviço prestado (8/15): 5\n",
            "Dê uma nota de 0 a 5 para o serviço prestado (9/15): 6\n",
            "Nota inválida, por favor, digite notas válidas.\n",
            "Dê uma nota de 0 a 5 para o serviço prestado (9/15): 2\n",
            "Dê uma nota de 0 a 5 para o serviço prestado (10/15): 1\n",
            "Dê uma nota de 0 a 5 para o serviço prestado (11/15): 3\n",
            "Dê uma nota de 0 a 5 para o serviço prestado (12/15): 4\n",
            "Dê uma nota de 0 a 5 para o serviço prestado (13/15): 5\n",
            "Dê uma nota de 0 a 5 para o serviço prestado (14/15): 2\n",
            "Dê uma nota de 0 a 5 para o serviço prestado (15/15): 1\n"
          ]
        }
      ]
    },
    {
      "cell_type": "markdown",
      "source": [
        "4) Desenvolva um programa que leia um conjunto indeterminado de temperaturas em Celsius e informe a média delas. A leitura deve ser encerrada ao ser enviado o valor -273°C."
      ],
      "metadata": {
        "id": "SvNhLAxM5nlz"
      }
    },
    {
      "cell_type": "code",
      "source": [
        "temperaturas = []\n",
        "while True:\n",
        "    try:\n",
        "        temp = float(input(f'Informe a temperatura do dia ({len(temperaturas) + 1}): '))\n",
        "        if temp == -273:\n",
        "            break # encerrar o looping se o valor for -273\n",
        "        temperaturas.append(temp)   # adiciona a temperatura à lista\n",
        "    except ValueError:\n",
        "        print('Entrada inválida, por favor, digite uma temperatura válida.')\n",
        "\n",
        "if temperaturas:\n",
        "    media = sum(temperaturas)/len(temperaturas)\n",
        "    print(f'A média das temperaturas informadas é: {media:.2f}°C.')\n",
        "else:\n",
        "    print('Nenhuma temperatura válida foi informada.')\n"
      ],
      "metadata": {
        "colab": {
          "base_uri": "https://localhost:8080/"
        },
        "id": "6TPVcdax5w5K",
        "outputId": "121b6487-0f28-42ca-91de-0b47a7c6501c"
      },
      "execution_count": null,
      "outputs": [
        {
          "output_type": "stream",
          "name": "stdout",
          "text": [
            "Informe a temperatura do dia (1): 10\n",
            "Informe a temperatura do dia (2): 25\n",
            "Informe a temperatura do dia (3): 38\n",
            "Informe a temperatura do dia (4): -273\n",
            "A média das temperaturas informadas é: 24.33°C.\n"
          ]
        }
      ]
    },
    {
      "cell_type": "markdown",
      "source": [
        "5) Escreva um programa que calcule o fatorial de um número inteiro fornecido pela pessoa usuária. Lembrando que o fatorial de um número inteiro é a multiplicação desse número por todos os seus antecessores até o número 1. Por exemplo, o fatorial de 5 é 5 x 4 x 3 x 2 x 1 = 120.\n"
      ],
      "metadata": {
        "id": "k-LBelgZ-Lbb"
      }
    },
    {
      "cell_type": "code",
      "source": [
        "def calcular_fatorial(n): # criamos uma função e o def representa essa função criada\n",
        "    # fatorial de 0 ou 1 é 1\n",
        "    fatorial = 1\n",
        "\n",
        "# Calcular fatorial\n",
        "    for i in range(2,n+1):\n",
        "        fatorial *= i\n",
        "    return fatorial\n",
        "\n",
        "n = int(input('Informe um número inteiro positivo: '))\n",
        "resultado = calcular_fatorial(n)\n",
        "\n",
        "if n < 0:\n",
        "    print(f'O número infomado, {n} é negativo. Por favor, digite um número positivo.')\n",
        "else:\n",
        "    resultado = calcular_fatorial(n)\n",
        "\n",
        "print(f'O fatorial de {n} é {resultado}')"
      ],
      "metadata": {
        "colab": {
          "base_uri": "https://localhost:8080/"
        },
        "id": "toES-FTK-MwD",
        "outputId": "2f819ee7-d188-495c-d678-b495276fdbf1"
      },
      "execution_count": null,
      "outputs": [
        {
          "output_type": "stream",
          "name": "stdout",
          "text": [
            "Informe um número inteiro positivo: 6\n",
            "O fatorial de 6 é 720\n"
          ]
        }
      ]
    },
    {
      "cell_type": "markdown",
      "source": [
        "outra resolução"
      ],
      "metadata": {
        "id": "o5RCGeolFXap"
      }
    },
    {
      "cell_type": "code",
      "source": [
        "# Pedimos o número\n",
        "num = int(input(\"Informe um número inteiro: \"))\n",
        "#Iniciamos o cálculo com 1 pois não há fatoração de números negativos\n",
        "fatorial = 1\n",
        "# nosso contador inicializa com o número máximo\n",
        "# e será feita uma contagem decrescente com o operador -=\n",
        "i =  num\n",
        "while i > 0:\n",
        "    # iremos multiplicar o valor do fatorial pelo num e todos o número abaixo dele até 1\n",
        "    fatorial *= i\n",
        "    i -= 1\n",
        "# Imprimir o cálculo do fatorial\n",
        "print(f'Fatorial de {num} é {fatorial}')"
      ],
      "metadata": {
        "colab": {
          "base_uri": "https://localhost:8080/"
        },
        "id": "y02rClEIFZVg",
        "outputId": "ed00a209-018a-4a90-e4b8-8a409d68efc3"
      },
      "execution_count": null,
      "outputs": [
        {
          "output_type": "stream",
          "name": "stdout",
          "text": [
            "Informe um número inteiro5\n",
            "Fatorial de 5 é 120\n"
          ]
        }
      ]
    },
    {
      "cell_type": "markdown",
      "source": [],
      "metadata": {
        "id": "-q5JEQANBDjy"
      }
    }
  ]
}