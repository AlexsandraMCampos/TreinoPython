{
  "nbformat": 4,
  "nbformat_minor": 0,
  "metadata": {
    "colab": {
      "provenance": []
    },
    "kernelspec": {
      "name": "python3",
      "display_name": "Python 3"
    },
    "language_info": {
      "name": "python"
    }
  },
  "cells": [
    {
      "cell_type": "markdown",
      "source": [
        "1) Escreva um programa que peça à pessoa usuária para fornecer dois números e exibir o número maior."
      ],
      "metadata": {
        "id": "2Dz5fM_4MveH"
      }
    },
    {
      "cell_type": "code",
      "source": [
        "num1 = int(input('Insira um número: '))\n",
        "num2 = int(input('Insira um outro número:'))\n",
        "\n",
        "if num1 > num2:\n",
        "    print(f'O maior número é {num1}')\n",
        "else:\n",
        "    print(f'O maior número é {num2}')"
      ],
      "metadata": {
        "colab": {
          "base_uri": "https://localhost:8080/"
        },
        "id": "UGyc8m23M-_G",
        "outputId": "d455a1a3-01ea-4a4e-b01a-1fa79bba98cf"
      },
      "execution_count": null,
      "outputs": [
        {
          "output_type": "stream",
          "name": "stdout",
          "text": [
            "Insira um número: 7\n",
            "Insira um outro número:9\n",
            "O maior número é 9\n"
          ]
        }
      ]
    },
    {
      "cell_type": "markdown",
      "source": [
        "2) Escreva um programa que solicite o percentual de crescimento de produção de uma empresa e informe se houve um crescimento (porcentagem positiva) ou decrescimento (porcentagem negativa)."
      ],
      "metadata": {
        "id": "w4zufNqyOCGO"
      }
    },
    {
      "cell_type": "code",
      "source": [
        "cresc_2022 = float(input('Informe a porcentagem do crescimento de vendas em 2022:' ))\n",
        "cresc_2023 = float(input('Informe a porcentagem do crescimento de vendas em 2023: '))\n",
        "\n",
        "if cresc_2022 > cresc_2023:\n",
        "    print(f'O ano de 2022 teve maior crescimento que 2023. Seu crescimento foi de {cresc_2022}%.')\n",
        "else:\n",
        "    print(f'O ano de 2023 teve maior crescimento que 2022. Seu crescimento foi de {cresc_2023}%.')"
      ],
      "metadata": {
        "colab": {
          "base_uri": "https://localhost:8080/"
        },
        "id": "gBfVJAPmNhB9",
        "outputId": "fe16f13e-bcc6-4374-86bb-ecb4b8fe151a"
      },
      "execution_count": null,
      "outputs": [
        {
          "output_type": "stream",
          "name": "stdout",
          "text": [
            "Informe a porcentagem do crescimento de vendas em 2022:-3\n",
            "Informe a porcentagem do crescimento de vendas em 2023: 7\n",
            "O ano de 2023 teve maior crescimento que 2022. Seu crescimento foi de 7.0%.\n"
          ]
        }
      ]
    },
    {
      "cell_type": "markdown",
      "source": [
        "3) Escreva um programa que determine se uma letra fornecida pela pessoa usuária é uma vogal ou consoante."
      ],
      "metadata": {
        "id": "u4xVtLm8PYSe"
      }
    },
    {
      "cell_type": "code",
      "source": [
        "\n",
        "\n",
        "letra = input('Escolha uma letra do alfabeto: ')\n",
        "vogal = ('a','e','i','o','u', 'A', 'E', 'I', 'O', 'U')\n",
        "if letra in vogal:\n",
        "    print(f'A letra {letra} é uma vogal. ')\n",
        "else:\n",
        "    print(f'A letra {letra} é uma consoante. ')\n"
      ],
      "metadata": {
        "colab": {
          "base_uri": "https://localhost:8080/"
        },
        "id": "_bpijjJjOG69",
        "outputId": "a1337d27-477d-41bf-dc48-95564039f092"
      },
      "execution_count": null,
      "outputs": [
        {
          "output_type": "stream",
          "name": "stdout",
          "text": [
            "Escolha uma letra do alfabeto: e\n",
            "A letra e é uma vogal. \n"
          ]
        }
      ]
    },
    {
      "cell_type": "markdown",
      "source": [
        "4) Escreva um programa que leia valores médios de preços de um modelo de carro por 3 anos consecutivos e exiba o valor mais alto e mais baixo entre esses três anos."
      ],
      "metadata": {
        "id": "1Ts9_1SLRIJO"
      }
    },
    {
      "cell_type": "code",
      "source": [
        "p1 = float(input('Informe o preço do caro em 2021 R$: '))\n",
        "p2 = float(input('Informe o preço do caro em 2022 R$: '))\n",
        "p3 = float(input('Informe o preço do caro em 2023 R$: '))\n",
        "\n",
        "#Determinar o maior preço\n",
        "\n",
        "if p1 >= p2 and p1 >= p3 :\n",
        "    maior_preco = p1\n",
        "    ano_maior = 2021\n",
        "elif p2 >= p1 and p2 >= p3:\n",
        "    maior_preco = p2\n",
        "    ano_maior = 2022\n",
        "else:\n",
        "    maior_preco = p3\n",
        "    ano_maior = 2023\n",
        "\n",
        "# Determinar o menor preço\n",
        "if p1 <= p2 and p1 <= p3 :\n",
        "    menor_preco = p1\n",
        "    ano_menor = 2021\n",
        "elif p2 <= p1 and p2 <= p3:\n",
        "    menor_preco = p2\n",
        "    ano_menor = 2022\n",
        "else:\n",
        "    menor_preco = p3\n",
        "    ano_menor = 2023\n",
        "\n",
        "print(f'O preço mais alto foi em {ano_maior} e custava R${maior_preco} e o menor foi em {ano_menor} e custava R${menor_preco}.')"
      ],
      "metadata": {
        "colab": {
          "base_uri": "https://localhost:8080/"
        },
        "id": "QFZxN8aoRJKd",
        "outputId": "5ce34896-e005-45bc-fa7a-fab72cfd49de"
      },
      "execution_count": null,
      "outputs": [
        {
          "output_type": "stream",
          "name": "stdout",
          "text": [
            "Informe o preço do caro em 2021 R$: 20.000\n",
            "Informe o preço do caro em 2022 R$: 18.500\n",
            "Informe o preço do caro em 2023 R$: 23.000\n",
            "O preço mais alto foi em 2023 e custava R$23.0 e o menor foi em 2022 e custava R$18.5.\n"
          ]
        }
      ]
    },
    {
      "cell_type": "markdown",
      "source": [
        "IMPORTANTE\n",
        "5) Escreva um programa que pergunte sobre o preço de três produtos e indique qual é o produto mais barato para comprar.7\n"
      ],
      "metadata": {
        "id": "0HP-28IdGbJJ"
      }
    },
    {
      "cell_type": "code",
      "source": [
        "c = float(input('Informe o preço do Chokito R$ '))\n",
        "p = float(input('Informe o preço do Prestigio R$ '))\n",
        "m = float(input('Informe o preço do Milka R$ '))\n",
        "\n",
        "chocolates = [('Chokito', c), ('Prestigio', p), ('Milka', m)] # nesta tupla o índice 0 é o nome do chocolate e o índice 1 o preço\n",
        "mais_caro = max(chocolates, key=lambda x:x[1]) # função utilizada o argumento key=lambda x:x[1] para determinar o mais caro utilizando o segundo elemento da tupla[1]como critério\n",
        "mais_barato = min(chocolates, key=lambda x:x[1])\n",
        "\n",
        "print(f'O chocolate mais caro é o {mais_caro[0]} custando R$ {mais_caro[1]:.2f} e o mais barato é o {mais_barato[0]} custando R$ {mais_barato[1]:.2f}')\n",
        "\n"
      ],
      "metadata": {
        "colab": {
          "base_uri": "https://localhost:8080/"
        },
        "id": "RnEMgwmLGdGx",
        "outputId": "3b6264df-fd55-494f-bb07-51b3b25ed675"
      },
      "execution_count": null,
      "outputs": [
        {
          "output_type": "stream",
          "name": "stdout",
          "text": [
            "Informe o preço do Chokito R$ 3.00\n",
            "Informe o preço do Prestigio R$ 3.50\n",
            "Informe o preço do Milka R$ 4.00\n",
            "O chocolate mais caro é o Milka custando R$ 4.00 e o mais barato é o Chokito custando R$ 3.00\n"
          ]
        }
      ]
    },
    {
      "cell_type": "markdown",
      "source": [
        "IMPORTANTE\n",
        "6) Escreva um programa que leia três números e os exiba em ordem decrescente."
      ],
      "metadata": {
        "id": "z0uNxQPsLheg"
      }
    },
    {
      "cell_type": "code",
      "source": [
        "n1 = float(input('Digite um número qualquer: '))\n",
        "n2 = float(input('Digite outro número qualquer:'))\n",
        "n3 = float(input('Digite mais um número qualquer: '))\n",
        "\n",
        "numeros = [n1, n2, n3] # armazena os números do imput\n",
        "\n",
        "numeros_ordenados = sorted(numeros, reverse=True) # função sorted aqui vai  armazenar os números do input em ordem decrescente\n",
        "print('Numeros em ordem decrescente : ')\n",
        "for num in numeros_ordenados: # um loop for percorre a lista numeros_ordenados e imprime\n",
        "    print(num)\n"
      ],
      "metadata": {
        "colab": {
          "base_uri": "https://localhost:8080/"
        },
        "id": "bWBmnV1QLhN4",
        "outputId": "7eaa2eee-d6f8-48a0-f45b-383f0843922e"
      },
      "execution_count": null,
      "outputs": [
        {
          "output_type": "stream",
          "name": "stdout",
          "text": [
            "Digite um número qualquer: 4\n",
            "Digite outro número qualquer:8\n",
            "Digite mais um número qualquer: 1\n",
            "Numeros em ordem decrescente : \n",
            "8.0\n",
            "4.0\n",
            "1.0\n"
          ]
        }
      ]
    },
    {
      "cell_type": "markdown",
      "source": [],
      "metadata": {
        "id": "l3K4fEGaS4Fm"
      }
    },
    {
      "cell_type": "markdown",
      "source": [
        "IMPORTANTE\n",
        "7) Escreva um programa que pergunte em qual turno a pessoa usuária estuda (\"manhã\", \"tarde\" ou \"noite\") e exiba a mensagem \"Bom Dia!\", \"Boa Tarde!\", \"Boa Noite!\", ou \"Valor Inválido!\", conforme o caso."
      ],
      "metadata": {
        "id": "2IFpOdX1Pa7y"
      }
    },
    {
      "cell_type": "code",
      "source": [
        "turno = input('Qual seu turno de trabalho (Manhã, Tarde ou Noite)?: ').strip().lower() # a função .strip().lower() garante a que variavel seja comparada independente de espaços ou maiscula ou minuscula\n",
        "\n",
        "if turno == 'manhã':\n",
        "    print('Bom dia e bom trabalho!')\n",
        "elif turno == 'tarde':\n",
        "    print('Boa tarde e bom trabalho!')\n",
        "elif turno == 'noite':\n",
        "    print('Boa noite e bom trabalho!')\n",
        "else:\n",
        "    print('Você não informou seu turno!')\n"
      ],
      "metadata": {
        "colab": {
          "base_uri": "https://localhost:8080/"
        },
        "id": "4Mc_bditPcPJ",
        "outputId": "d73cbedd-5af6-47c9-80d2-d7b2f10a5f0a"
      },
      "execution_count": null,
      "outputs": [
        {
          "output_type": "stream",
          "name": "stdout",
          "text": [
            "Qual seu turno de trabalho (Manhã, Tarde ou Noite)?: Tarde\n",
            "Boa tarde e bom trabalho!\n"
          ]
        }
      ]
    },
    {
      "cell_type": "markdown",
      "source": [
        "8) Escreva um programa que peça um número inteiro à pessoa usuária e determine se ele é par ou ímpar. Dica: Você pode utilizar o operador módulo %."
      ],
      "metadata": {
        "id": "aBTlJubnS8On"
      }
    },
    {
      "cell_type": "code",
      "source": [
        "inteiro = int(input('Informe um número inteiro:'))\n",
        "\n",
        "if inteiro % 2 == 0:\n",
        "    print(f'O número {inteiro} é par.')\n",
        "else:\n",
        "    print(f'O número {inteiro} é ímpar.')"
      ],
      "metadata": {
        "colab": {
          "base_uri": "https://localhost:8080/"
        },
        "id": "oqg8kaAPR1sU",
        "outputId": "548ddccd-dd73-426d-ca8d-45b9068737dd"
      },
      "execution_count": null,
      "outputs": [
        {
          "output_type": "stream",
          "name": "stdout",
          "text": [
            "Informe um número inteiro:4\n",
            "O número 4 é par.\n"
          ]
        }
      ]
    },
    {
      "cell_type": "markdown",
      "source": [
        "9) Escreva um programa que peça um número à pessoa usuária e informe se ele é inteiro ou decimal."
      ],
      "metadata": {
        "id": "hql_mU76UCU-"
      }
    },
    {
      "cell_type": "code",
      "source": [
        "numero = input('Informe um número: ')\n",
        "try: # try e except devem estar alinhados\n",
        "    numero = float(numero)\n",
        "    if numero.is_integer(): # a função .is_interger() verifica se o número é decimal ou inteiro.\n",
        "        print(f'O número {numero} é inteiro.')\n",
        "    else:\n",
        "        print(f'O número {numero} é decimal.')\n",
        "\n",
        "except ValueError:\n",
        "    print('Valor inválido! Favor inserir um número válido.')\n"
      ],
      "metadata": {
        "colab": {
          "base_uri": "https://localhost:8080/"
        },
        "id": "6bpmVNOETX3S",
        "outputId": "2af59a38-72f0-479f-da5e-87aabc733541"
      },
      "execution_count": null,
      "outputs": [
        {
          "output_type": "stream",
          "name": "stdout",
          "text": [
            "Informe um número: 3.25\n",
            "O número 3.25 é decimal.\n"
          ]
        }
      ]
    },
    {
      "cell_type": "markdown",
      "source": [
        "10) Um programa deve ser escrito para ler dois números e, em seguida, perguntar à pessoa usuária qual operação ele deseja realizar. O resultado da operação deve incluir informações sobre o número - se é par ou ímpar, positivo ou negativo e inteiro ou decimal."
      ],
      "metadata": {
        "id": "cPQIscd_RG4i"
      }
    },
    {
      "cell_type": "code",
      "source": [
        "primeiro_num = float(input('Informe um número: '))\n",
        "segundo_num = float(input('Informe um novo número: '))\n",
        "operacao = input('Escolha uma operação (+,-, * , /): ')\n",
        "\n",
        "if operacao == '+':\n",
        "    resultado = primeiro_num + segundo_num\n",
        "elif operacao == '-':\n",
        "    resultado = primeiro_num - segundo_num\n",
        "elif operacao == '*':\n",
        "    resultado = primeiro_num * segundo_num\n",
        "elif operacao == '/':\n",
        "    resultado = primeiro_num / segundo_num\n",
        "else:\n",
        "    print('Operação inválida!')\n",
        "    resultado = 0\n",
        "\n",
        "if resultado % 1 == 0:\n",
        "    print(f'O resultado {resultado} é inteiro.')\n",
        "else:\n",
        "    print(f'O resultado {resultado} é decimal.')\n",
        "\n",
        "if resultado > 0:\n",
        "    print(f'O número {resultado} é positivo.')\n",
        "elif resultado == 0:\n",
        "    print(f'O número {resultado} é neutro.')\n",
        "else:\n",
        "    print(f'O número {resultado} é negativo.')\n",
        "\n",
        "if resultado % 2 == 0:\n",
        "    print(f'e é par.')\n",
        "else:\n",
        "    print(f'e é ímpar. ')"
      ],
      "metadata": {
        "id": "klQsKrF7Xfbi",
        "colab": {
          "base_uri": "https://localhost:8080/"
        },
        "outputId": "6cd92731-4743-4e61-bc14-96711b81defb"
      },
      "execution_count": 4,
      "outputs": [
        {
          "output_type": "stream",
          "name": "stdout",
          "text": [
            "Informe um número: 8\n",
            "Informe um novo número: 4\n",
            "Escolha uma operação (+,-, * , /): -\n",
            "O resultado 4.0 é inteiro.\n",
            "O número 4.0 é positivo.\n",
            "e é par\n"
          ]
        }
      ]
    },
    {
      "cell_type": "markdown",
      "source": [
        "11) Escreva um programa que peça à pessoa usuária três números que representam os lados de um triângulo. O programa deve informar se os valores podem ser utilizados para formar um triângulo e, caso afirmativo, se ele é equilátero, isósceles ou escaleno. Tenha em mente algumas dicas:\n",
        "\n",
        "Três lados formam um triângulo quando a soma de quaisquer dois lados for maior que o terceiro;\n",
        "Triângulo Equilátero: três lados iguais;\n",
        "Triângulo Isósceles: quaisquer dois lados iguais;\n",
        "Triângulo Escaleno: três lados diferentes.\n"
      ],
      "metadata": {
        "id": "P-yN9JVsVpqo"
      }
    },
    {
      "cell_type": "code",
      "source": [
        "a = float(input('Informe o valor do lado A: '))\n",
        "b = float(input('Informe o valor do lado B: '))\n",
        "c = float(input('Informe o valor do lado C: '))\n",
        "\n",
        "#verificamos se os lados formam um triângulo\n",
        "if (a + b > c) and  (b + c > a) and (a + c > b):\n",
        "    print('Os valores {}, {}, {} podem formar um triângulo.'.format(a,b,c))\n",
        "#comparamos os lados para verificar o tipo do triângulo\n",
        "    if a == b and b == c:\n",
        "        print(f'Este é um triângulo equilátero.')\n",
        "    elif a!= b and b!=c and a != c:\n",
        "        print(f'Este é um triângulo escaleno.')\n",
        "    else:\n",
        "        print('Este triângulo é isósceles.')\n",
        "else:\n",
        "    print('Os valores {}, {}, {}  não podem formar um triângulo'.format(a,b,c))"
      ],
      "metadata": {
        "colab": {
          "base_uri": "https://localhost:8080/"
        },
        "id": "5dQ9jQnqVvuB",
        "outputId": "e374dd2d-b411-4ab1-cab2-e8571d9554a1"
      },
      "execution_count": 8,
      "outputs": [
        {
          "output_type": "stream",
          "name": "stdout",
          "text": [
            "Informe o valor do lado A: 6\n",
            "Informe o valor do lado B: 6\n",
            "Informe o valor do lado C: 8\n",
            "Os valores 6.0, 6.0, 8.0 podem formar um triângulo\n",
            "Este triângulo é isósceles.\n"
          ]
        }
      ]
    },
    {
      "cell_type": "markdown",
      "source": [
        "12) Um estabelecimento está vendendo combustíveis com descontos variados. Para o etanol, se a quantidade comprada for até 15 litros, o desconto será de 2% por litro. Caso contrário, será de 4% por litro. Para o diesel, se a quantidade comprada for até 15 litros, o desconto será de 3% por litro. Caso contrário, será de 5% por litro. O preço do litro de diesel é R$ 2,00 e o preço do litro de etanol é R$ 1,70. Escreva um programa que leia a quantidade de litros vendidos e o tipo de combustível (E para etanol e D para diesel) e calcule o valor a ser pago pelo cliente. Tenha em mente algumas dicas:\n",
        "\n",
        "O do valor do desconto será a multiplicação entre preço do litro, quantidade de litros e o valor do desconto.\n",
        "\n",
        "O valor a ser pago por um cliente será o resultado da multiplicação do preço do litro pela quantidade de litros menos o valor de desconto resultante do cálculo."
      ],
      "metadata": {
        "id": "aoqvEt2EY5IJ"
      }
    },
    {
      "cell_type": "code",
      "source": [
        "combustivel = input('Qual combustível você deseja? Etanol ou Diesel? : ').lower()\n",
        "litros = float(input('Quantos litros?: '))\n",
        "\n",
        "if combustivel == 'etanol' and litros <= 15:\n",
        "    preco = (litros * 1.7)*0.98\n",
        "    print(f'O custo total é de R$ {preco:.2f}'.format(preco))\n",
        "elif combustivel == 'etanol' and litros > 15:\n",
        "    preco = (litros * 1.7)*0.96\n",
        "    print(f'O custo total é de R$ {preco:.2f}'.format(preco))\n",
        "elif combustivel == 'diesel' and litros <= 15:\n",
        "    preco = (litros * 2.0)*0.97\n",
        "    print(f'O custo total é de R$ {preco:.2f}'.format(preco))\n",
        "elif combustivel == 'diesel' and litros > 15:\n",
        "    preco = (litros * 2.0)*0.95\n",
        "    print(f'O custo total é de R$ {preco:.2f}'.format(preco))\n",
        "else:\n",
        "    print('Só fornecemos etanol e diesel.')\n"
      ],
      "metadata": {
        "colab": {
          "base_uri": "https://localhost:8080/"
        },
        "id": "6qUBBejBZMyp",
        "outputId": "3d710234-fd6b-4e00-942a-5ce039e0651e"
      },
      "execution_count": 11,
      "outputs": [
        {
          "output_type": "stream",
          "name": "stdout",
          "text": [
            "Qual combustível você deseja? Etanol ou Diesel? : etanol\n",
            "Quantos litros?: 4\n",
            "O custo total é de R$ 6.66\n"
          ]
        }
      ]
    },
    {
      "cell_type": "markdown",
      "source": [
        "13) Em uma empresa de venda de imóveis você precisa criar um código que analise os dados de vendas anuais para ajudar a diretoria na tomada de decisão. O código precisa coletar os dados de quantidade de venda durante os anos de 2022 e 2023 e fazer um cálculo de variação percentual. A partir do valor da variação, deve ser enviada às seguintes sugestões:\n",
        "\n",
        "Para variação acima de 20%: bonificação para o time de vendas.\n",
        "Para variação entre 2% e 20%: pequena bonificação para time de vendas.\n",
        "Para variação entre 2% e -10%: planejamento de políticas de incentivo às vendas.\n",
        "Para bonificações abaixo de -10%: corte de gastos.\n"
      ],
      "metadata": {
        "id": "pzJviaLNfZQo"
      }
    },
    {
      "cell_type": "markdown",
      "source": [],
      "metadata": {
        "id": "f17Vqtm5Rk3q"
      }
    },
    {
      "cell_type": "code",
      "source": [
        "v22 = float(input('Informe o valor anual de vendas do ano de 2022 R$ '))\n",
        "v23= float(input('Informe o valor anual de vendas do ano de 2023 R$ '))\n",
        "\n",
        "variacao = ((v23- v22) / v22)*100\n",
        "if variacao > 20:\n",
        "    print(f'O time vendeu {variacao:.2f}% acima de 2022 e receberá bonificação. Parabéns ao time!')\n",
        "elif 2 < variacao <=20:\n",
        "    print(f'O time vendeu {variacao:.2f}% e receberá uma bonificação menor. Parabéns ao time, vamos trabalhar para conquistar a bonificação maior!')\n",
        "elif  -10 < variacao <= 2:\n",
        "    print(f'O time vendeu {variacao:.2f}%, precisamos planejar a política de incentivo às vendas.')\n",
        "elif variacao <= -10:\n",
        "    print(f'O time vendeu {variacao:.2f}%, precisamos cortar gastos.')\n",
        "else:\n",
        "    print(f'O time vendeu {variacao:.2f}% acima de 2022, não atingiu a meta e infelizmente bão receberá bonificação. Precisamos rever os números do forecast!')"
      ],
      "metadata": {
        "colab": {
          "base_uri": "https://localhost:8080/"
        },
        "id": "WoveKfqPfagQ",
        "outputId": "74a4bdbe-8918-4f5b-9646-88c3eeff064a"
      },
      "execution_count": 18,
      "outputs": [
        {
          "output_type": "stream",
          "name": "stdout",
          "text": [
            "Informe o valor anual de vendas do ano de 2022 R$ 40000\n",
            "Informe o valor anual de vendas do ano de 2023 R$ 42000\n",
            "O time vendeu 5.00% e receberá uma bonificação menor. Parabéns ao time, vamos trabalhar para conquistar a bonificação maior!\n"
          ]
        }
      ]
    },
    {
      "cell_type": "code",
      "source": [],
      "metadata": {
        "id": "sYBvWXPcoNWG"
      },
      "execution_count": null,
      "outputs": []
    },
    {
      "cell_type": "code",
      "source": [],
      "metadata": {
        "id": "FE6HxIpfpNIR"
      },
      "execution_count": null,
      "outputs": []
    }
  ]
}